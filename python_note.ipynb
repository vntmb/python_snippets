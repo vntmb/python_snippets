{
 "cells": [
  {
   "cell_type": "markdown",
   "metadata": {},
   "source": [
    "```\n",
    "Taken and adapted from https://github.com/chiphuyen/python-is-cool/blob/master/cool-python-tips.ipynb\n",
    "```"
   ]
  },
  {
   "cell_type": "markdown",
   "metadata": {},
   "source": [
    "## 1. mean squared error of a simple linear function f(x) = ax + b"
   ]
  },
  {
   "cell_type": "code",
   "execution_count": 4,
   "metadata": {},
   "outputs": [
    {
     "name": "stdout",
     "output_type": "stream",
     "text": [
      "0.35089172119045514\n",
      "0.35089172119045514\n"
     ]
    }
   ],
   "source": [
    "a,b = 3, -0.5\n",
    "xs = [2, 3, 4, 5]\n",
    "labels = [6.4, 8.9, 10.9, 15.3]\n",
    "\n",
    "# using maps\n",
    "diffs_map = map(lambda x, y: (a * x + b - y) ** 2, xs, labels)\n",
    "results_map = sum(diffs_map) ** 0.5 / len(xs)\n",
    "print(results_map)\n",
    "\n",
    "# using list comprehension\n",
    "diffs_comp = [(a * x + b - y) ** 2 for x, y in zip(xs, labels)]\n",
    "results_comp = sum(diffs_comp) ** 0.5 / len(xs)\n",
    "print(results_comp)"
   ]
  },
  {
   "cell_type": "markdown",
   "metadata": {},
   "source": [
    "## 2. Filter\n",
    "\n",
    "> `filter(fn, iterable) -> ITERATOR[fn(it) == True]`"
   ]
  },
  {
   "cell_type": "code",
   "execution_count": 15,
   "metadata": {},
   "outputs": [],
   "source": [
    "from random import randint, random"
   ]
  },
  {
   "cell_type": "code",
   "execution_count": 12,
   "metadata": {},
   "outputs": [
    {
     "name": "stdout",
     "output_type": "stream",
     "text": [
      "[0.35488654837391476, 0.954603443420374, 0.08292867558019024, 0.2409585554214847, 0.19060323697964876, 0.6803758969681539, 0.5124161099425972, 0.7169497083389892, 0.2672058235953607, 0.11412223623305273]\n"
     ]
    }
   ],
   "source": [
    "errors = [random() for i in range(10)]\n",
    "print(errors)"
   ]
  },
  {
   "cell_type": "code",
   "execution_count": 13,
   "metadata": {},
   "outputs": [
    {
     "name": "stdout",
     "output_type": "stream",
     "text": [
      "[0.954603443420374, 0.6803758969681539, 0.5124161099425972, 0.7169497083389892]\n"
     ]
    }
   ],
   "source": [
    "bad_preds = filter(lambda x: x > 0.5, errors)\n",
    "print(list(bad_preds))"
   ]
  },
  {
   "cell_type": "markdown",
   "metadata": {},
   "source": [
    "## 3. List Slicing\n",
    "> [x:y:z] means \"take every zth element of a list from index x to index y\". When z is negative, it indicates going backwards. When x isn't specified, it defaults to the first element of the list in the direction you are traversing the list. When y isn't specified,itt defaults to the last element of the list. So if we want to take every 2nd element of a list, we use [::2]"
   ]
  },
  {
   "cell_type": "code",
   "execution_count": 17,
   "metadata": {},
   "outputs": [
    {
     "name": "stdout",
     "output_type": "stream",
     "text": [
      "[10, 28, 41, 46, 17, 49, 44, 11, 8, 37]\n"
     ]
    }
   ],
   "source": [
    "elems = [randint(1, 50) for _ in range(10)]\n",
    "print(elems)"
   ]
  },
  {
   "cell_type": "code",
   "execution_count": 18,
   "metadata": {},
   "outputs": [
    {
     "name": "stdout",
     "output_type": "stream",
     "text": [
      "Reverse list\n",
      "[37, 8, 11, 44, 49, 17, 46, 41, 28, 10]\n"
     ]
    }
   ],
   "source": [
    "print('Reverse list')\n",
    "print(elems[::-1])"
   ]
  },
  {
   "cell_type": "code",
   "execution_count": 19,
   "metadata": {},
   "outputs": [
    {
     "name": "stdout",
     "output_type": "stream",
     "text": [
      "Every 2nd element\n",
      "[10, 41, 17, 44, 8]\n"
     ]
    }
   ],
   "source": [
    "print('Every 2nd element')\n",
    "print(elems[::2])"
   ]
  },
  {
   "cell_type": "code",
   "execution_count": 20,
   "metadata": {},
   "outputs": [
    {
     "name": "stdout",
     "output_type": "stream",
     "text": [
      "Delete every 2nd element\n",
      "[28, 46, 49, 11, 37]\n"
     ]
    }
   ],
   "source": [
    "print('Delete every 2nd element')\n",
    "del elems[::2]\n",
    "print(elems)"
   ]
  },
  {
   "cell_type": "markdown",
   "metadata": {},
   "source": [
    "## 4. Flattening"
   ]
  },
  {
   "cell_type": "code",
   "execution_count": 22,
   "metadata": {},
   "outputs": [
    {
     "name": "stdout",
     "output_type": "stream",
     "text": [
      "[1, 2, 3, 4, 5, 6]\n"
     ]
    }
   ],
   "source": [
    "list_of_lists = [[1], [2, 3], [4, 5, 6]]\n",
    "fl_lst = sum(list_of_lists, [])\n",
    "print(fl_lst)"
   ]
  },
  {
   "cell_type": "markdown",
   "metadata": {},
   "source": [
    "## 4.b If we have nested lists, we can recursively flatten it"
   ]
  },
  {
   "cell_type": "code",
   "execution_count": 24,
   "metadata": {},
   "outputs": [
    {
     "name": "stdout",
     "output_type": "stream",
     "text": [
      "[1, 2, 3, 4, 5, 6, 7, 8, 9, 10, 11, 12, 13]\n"
     ]
    }
   ],
   "source": [
    "nested_lists = [[1, 2], [[3, 4], [5, 6], [[7, 8], [9, 10], [[11, [12, 13]]]]]]\n",
    "flatten = lambda x: [y for l in x for y in flatten(l)] if type(x) is list else [x]\n",
    "print(flatten(nested_lists))"
   ]
  },
  {
   "cell_type": "markdown",
   "metadata": {},
   "source": [
    "## 5. Generate n-grams using list slicing and zip"
   ]
  },
  {
   "cell_type": "code",
   "execution_count": 26,
   "metadata": {},
   "outputs": [
    {
     "name": "stdout",
     "output_type": "stream",
     "text": [
      "<zip object at 0x7fecbb0c1320>\n",
      "('i', 'want', 'to')\n",
      "('want', 'to', 'go')\n",
      "('to', 'go', 'to')\n",
      "('go', 'to', 'school')\n"
     ]
    }
   ],
   "source": [
    "tokens = ['i', 'want', 'to', 'go', 'to', 'school']\n",
    "\n",
    "def ngrams(tokens, n):\n",
    "    length = len(tokens)\n",
    "    slices = (tokens[i: length-n+i+1] for i in range(n))\n",
    "    return zip(*slices)\n",
    "\n",
    "ngrams_generator = ngrams(tokens, 3)\n",
    "print(ngrams_generator) # zip objects are generators\n",
    "for ngram in ngrams_generator:\n",
    "    print(ngram)"
   ]
  },
  {
   "cell_type": "markdown",
   "metadata": {},
   "source": [
    "## 6. Classes and magic methods"
   ]
  },
  {
   "cell_type": "code",
   "execution_count": 39,
   "metadata": {},
   "outputs": [],
   "source": [
    "class Node:\n",
    "    \"\"\" A struct to denote the node of a binary tree.\n",
    "    It contains a value and pointers to left and right children.\n",
    "    \"\"\"\n",
    "    __slots__ = ('value', 'left', 'right')\n",
    "    def __init__(self, value, left=None, right=None):\n",
    "        self.value = value\n",
    "        self.left = left\n",
    "        self.right = right\n",
    "        \n",
    "    def __repr__(self):\n",
    "        strings = [f'value: {self.value}']\n",
    "        strings.append(f'left: {self.left.value}' if self.left else 'left: None')\n",
    "        strings.append(f'right: {self.right.value}' if self.right else 'right: None')\n",
    "        return ', '.join(strings)\n",
    "    \n",
    "    def __eq__(self, other):\n",
    "        return self.value == other.value\n",
    "    \n",
    "    def __lt__(self, other):\n",
    "        return self.value < other.value\n",
    "    \n",
    "    def __lte__(self, other):\n",
    "        return self.value <= other.value\n",
    "    \n",
    "    def __gt__(self, other):\n",
    "        return self.value > other.value\n",
    "    \n",
    "    def __ge__(self, other):\n",
    "        return self.value >= other.value"
   ]
  },
  {
   "cell_type": "code",
   "execution_count": 40,
   "metadata": {},
   "outputs": [
    {
     "name": "stdout",
     "output_type": "stream",
     "text": [
      "value: 5, left: None, right: None\n"
     ]
    }
   ],
   "source": [
    "root = Node(5)\n",
    "print(root)"
   ]
  },
  {
   "cell_type": "code",
   "execution_count": 41,
   "metadata": {},
   "outputs": [
    {
     "name": "stdout",
     "output_type": "stream",
     "text": [
      "value: 5, left: 4, right: 8\n"
     ]
    }
   ],
   "source": [
    "left = Node(4)\n",
    "right = Node(8)\n",
    "root = Node(5, left, right)\n",
    "print(root)"
   ]
  },
  {
   "cell_type": "code",
   "execution_count": 42,
   "metadata": {},
   "outputs": [
    {
     "name": "stdout",
     "output_type": "stream",
     "text": [
      "False\n",
      "True\n",
      "False\n"
     ]
    }
   ],
   "source": [
    "print(left == root)\n",
    "print(left < root)\n",
    "print(left >= root)"
   ]
  },
  {
   "cell_type": "markdown",
   "metadata": {},
   "source": [
    "## 7. The locals() function returns a dictionary containing the variables defined in the local namespace"
   ]
  },
  {
   "cell_type": "code",
   "execution_count": 43,
   "metadata": {},
   "outputs": [
    {
     "name": "stdout",
     "output_type": "stream",
     "text": [
      "{'self': <__main__.Model1 object at 0x7fecbb01d790>, 'hidden_size': 100, 'num_layers': 3, 'learning_rate': 0.0003}\n"
     ]
    }
   ],
   "source": [
    "class Model1:\n",
    "    def __init__(self, hidden_size=100, num_layers=3, learning_rate=3e-4):\n",
    "        print(locals())\n",
    "        self.hidden = hidden_size\n",
    "        self.num_layers = num_layers\n",
    "        self.learning_rate = learning_rate\n",
    "        \n",
    "model1 = Model1()"
   ]
  },
  {
   "cell_type": "code",
   "execution_count": 44,
   "metadata": {},
   "outputs": [
    {
     "data": {
      "text/plain": [
       "{'hidden': 100, 'num_layers': 3, 'learning_rate': 0.0003}"
      ]
     },
     "execution_count": 44,
     "metadata": {},
     "output_type": "execute_result"
    }
   ],
   "source": [
    "model1.__dict__"
   ]
  },
  {
   "cell_type": "markdown",
   "metadata": {},
   "source": [
    "## 7.b Directly assigning arguments using a dictionary"
   ]
  },
  {
   "cell_type": "code",
   "execution_count": 47,
   "metadata": {},
   "outputs": [
    {
     "data": {
      "text/plain": [
       "{'hidden_size': 100, 'num_layers': 3, 'learning_rate': 0.0003}"
      ]
     },
     "execution_count": 47,
     "metadata": {},
     "output_type": "execute_result"
    }
   ],
   "source": [
    "class Model2:\n",
    "    def __init__(self, hidden_size=100, num_layers=3, learning_rate=3e-4):\n",
    "        params = locals()\n",
    "        del params['self']\n",
    "        self.__dict__ = params\n",
    "    \n",
    "model2 = Model2()\n",
    "model2.__dict__"
   ]
  },
  {
   "cell_type": "markdown",
   "metadata": {},
   "source": [
    "## 7.c Directly assigning arguments using **kwargs"
   ]
  },
  {
   "cell_type": "code",
   "execution_count": 49,
   "metadata": {},
   "outputs": [
    {
     "data": {
      "text/plain": [
       "{'hidden_size': 100, 'num_layers': 3, 'learning_rate': 0.0003}"
      ]
     },
     "execution_count": 49,
     "metadata": {},
     "output_type": "execute_result"
    }
   ],
   "source": [
    "class Model3:\n",
    "    def __init__(self, **kwargs):\n",
    "        self.__dict__ = kwargs\n",
    "        \n",
    "model3 = Model3(hidden_size=100, num_layers=3, learning_rate=3e-4)\n",
    "model3.__dict__"
   ]
  },
  {
   "cell_type": "markdown",
   "metadata": {},
   "source": [
    "## 8. Restrict what can be imported from file\n",
    "\n",
    "```\n",
    "___all__ = ['A', 'B', 'C']\n",
    "```"
   ]
  },
  {
   "cell_type": "markdown",
   "metadata": {},
   "source": [
    "## 9 Decorators allow us to change the behavior of a function or class"
   ]
  },
  {
   "cell_type": "code",
   "execution_count": 50,
   "metadata": {},
   "outputs": [],
   "source": [
    "import time\n",
    "\n",
    "def timeit(fn):\n",
    "    # *args and **kwargs are to support positional and named arguments of fn\n",
    "    def get_time(*args, **kwargs):\n",
    "        start = time.time()\n",
    "        output = fn(*args, **kwargs)\n",
    "        print(f'Time taken in {fn.__name__}: {time.time() - start:.7f}')\n",
    "        return output # make sure that the decorator returns the output of fn\n",
    "    return get_time"
   ]
  },
  {
   "cell_type": "code",
   "execution_count": 52,
   "metadata": {},
   "outputs": [],
   "source": [
    "def fib_helper(n):    \n",
    "    if n < 2:\n",
    "        return n\n",
    "    return fib_helper(n - 1) + fib_helper(n - 2)\n",
    "\n",
    "@timeit\n",
    "def fib(n):\n",
    "    \"\"\" fib is a wrapper function so that later we can change its behavior\n",
    "    at the top level without affecting the behavior at every recursion step.\n",
    "    \"\"\"\n",
    "    return fib_helper(n)\n",
    "\n",
    "def fib_m_helper(n, computed):\n",
    "    if n in computed:\n",
    "        return computed[n]\n",
    "    computed[n] = fib_m_helper(n - 1, computed) + fib_m_helper(n - 2, computed)\n",
    "    return computed[n]\n",
    "\n",
    "@timeit\n",
    "def fib_m(n):\n",
    "    return fib_m_helper(n, {0: 0, 1: 1})"
   ]
  },
  {
   "cell_type": "code",
   "execution_count": 53,
   "metadata": {},
   "outputs": [
    {
     "name": "stdout",
     "output_type": "stream",
     "text": [
      "Time taken in fib: 0.3542638\n",
      "Time taken in fib_m: 0.0000191\n"
     ]
    },
    {
     "data": {
      "text/plain": [
       "832040"
      ]
     },
     "execution_count": 53,
     "metadata": {},
     "output_type": "execute_result"
    }
   ],
   "source": [
    "fib(30)\n",
    "fib_m(30)"
   ]
  },
  {
   "cell_type": "markdown",
   "metadata": {},
   "source": [
    "## 10. Caching with @functools.lru_cache"
   ]
  },
  {
   "cell_type": "code",
   "execution_count": 54,
   "metadata": {},
   "outputs": [],
   "source": [
    "import functools\n",
    "\n",
    "@functools.lru_cache()\n",
    "def fib_helper(n):\n",
    "    if n < 2:\n",
    "        return n\n",
    "    return fib_helper(n - 1) + fib_helper(n - 2)\n",
    "\n",
    "@timeit\n",
    "def fib(n):\n",
    "    \"\"\" fib is a wrapper function so that later we can change its behavior\n",
    "    at the top level without affecting the behavior at every recursion step.\n",
    "    \"\"\"\n",
    "    return fib_helper(n)"
   ]
  },
  {
   "cell_type": "code",
   "execution_count": 55,
   "metadata": {},
   "outputs": [
    {
     "name": "stdout",
     "output_type": "stream",
     "text": [
      "Time taken in fib: 0.0081882\n",
      "Time taken in fib_m: 0.0000401\n"
     ]
    },
    {
     "data": {
      "text/plain": [
       "12586269025"
      ]
     },
     "execution_count": 55,
     "metadata": {},
     "output_type": "execute_result"
    }
   ],
   "source": [
    "fib(50)\n",
    "fib_m(50)"
   ]
  },
  {
   "cell_type": "code",
   "execution_count": null,
   "metadata": {},
   "outputs": [],
   "source": []
  }
 ],
 "metadata": {
  "kernelspec": {
   "display_name": "Python 3",
   "language": "python",
   "name": "python3"
  },
  "language_info": {
   "codemirror_mode": {
    "name": "ipython",
    "version": 3
   },
   "file_extension": ".py",
   "mimetype": "text/x-python",
   "name": "python",
   "nbconvert_exporter": "python",
   "pygments_lexer": "ipython3",
   "version": "3.7.7"
  }
 },
 "nbformat": 4,
 "nbformat_minor": 4
}
