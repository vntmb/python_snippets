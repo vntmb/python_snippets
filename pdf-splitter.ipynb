{
 "cells": [
  {
   "cell_type": "code",
   "execution_count": 1,
   "id": "0fd8a3d8",
   "metadata": {},
   "outputs": [],
   "source": [
    "import pikepdf\n",
    "import json\n",
    "import shutil\n",
    "\n",
    "from pathlib import Path\n",
    "from collections import namedtuple"
   ]
  },
  {
   "cell_type": "code",
   "execution_count": 2,
   "id": "015e1b68",
   "metadata": {},
   "outputs": [],
   "source": [
    "directory = '.'\n",
    "directory_path = Path(directory)"
   ]
  },
  {
   "cell_type": "code",
   "execution_count": 3,
   "id": "037867f0",
   "metadata": {},
   "outputs": [],
   "source": [
    "p = directory_path.glob('**/*.json')\n",
    "files = [x for x in p if x.is_file()]"
   ]
  },
  {
   "cell_type": "code",
   "execution_count": 4,
   "id": "76134e1c",
   "metadata": {},
   "outputs": [],
   "source": [
    "def strip_extension(title: str) -> str:\n",
    "    if '.pdf' in title:\n",
    "        return title[:title.find('.pdf')]\n",
    "    elif '.json' in title:\n",
    "        return title[:title.find('.json')]\n",
    "    else:\n",
    "        return title"
   ]
  },
  {
   "cell_type": "code",
   "execution_count": 5,
   "id": "f853f846",
   "metadata": {},
   "outputs": [],
   "source": [
    "def get_folder_and_file(pathlib_file):\n",
    "    return pathlib_file.parents[0], strip_extension(pathlib_file.name)"
   ]
  },
  {
   "cell_type": "code",
   "execution_count": 6,
   "id": "c7ab62a4",
   "metadata": {},
   "outputs": [],
   "source": [
    "data_dictionaries = []\n",
    "FileObj = namedtuple(\"FileObj\", \"folder name data\")\n",
    "for file in files:\n",
    "    parent_dir, file_name = get_folder_and_file(file)\n",
    "    with open(file, 'r') as json_file:\n",
    "        data_dictionaries.append(FileObj(parent_dir, file_name, json.load(json_file)))"
   ]
  },
  {
   "cell_type": "code",
   "execution_count": 7,
   "id": "8b5e3b30",
   "metadata": {},
   "outputs": [],
   "source": [
    "def pdf_slice_to_disk(content_type, pdf, destination_folder, instruction_dict):\n",
    "    num_entries = instruction_dict[f'number_of_{content_type}']\n",
    "    if num_entries > 0:\n",
    "        for i in range(1, num_entries + 1):\n",
    "            print(instruction_dict[content_type][str(i)])\n",
    "            dst = pikepdf.Pdf.new()\n",
    "            for j in range(int(instruction_dict[content_type][str(i)]['start']) - 1, int(instruction_dict[content_type][str(i)]['end'])):\n",
    "                dst.pages.append(pdf.pages[j])\n",
    "            if content_type == 'chapters':\n",
    "                dst.save(destination_folder / f'{i}.{instruction_dict[content_type][str(i)][\"title\"]}.pdf')\n",
    "            else:\n",
    "                if content_type == 'appendices':\n",
    "                    prefix = 'A'\n",
    "                else:\n",
    "                    prefix = 'E'\n",
    "                dst.save(destination_folder / f'{prefix}{i}.{instruction_dict[content_type][str(i)][\"title\"]}.pdf')"
   ]
  },
  {
   "cell_type": "code",
   "execution_count": 8,
   "id": "9484db5b",
   "metadata": {},
   "outputs": [],
   "source": [
    "content_type_list = ['chapters', 'appendices', 'extras']"
   ]
  },
  {
   "cell_type": "code",
   "execution_count": 9,
   "id": "4f286d80",
   "metadata": {},
   "outputs": [],
   "source": [
    "def process_book(current_file_tuple):\n",
    "    destination_folder = current_file_tuple.folder / current_file_tuple.name\n",
    "    parent_folder = current_file_tuple.folder.parents[0] / current_file_tuple.name\n",
    "    if (not destination_folder.exists()) and (not parent_folder.exists()):\n",
    "        destination_folder.mkdir(parents=True, exist_ok=True)\n",
    "        current_book = current_file_tuple.folder / current_file_tuple.data['book']\n",
    "        instruction_dict = current_file_tuple.data\n",
    "        with pikepdf.open(current_book) as pdf:\n",
    "            num_pages = len(pdf.pages)\n",
    "            for cont_typ in content_type_list:\n",
    "                pdf_slice_to_disk(cont_typ, pdf, destination_folder, instruction_dict)\n",
    "        # move json\n",
    "        json_path = current_file_tuple.folder / f'{current_file_tuple.name}.json'\n",
    "        shutil.move(json_path, destination_folder / f'{current_file_tuple.name}.json' )\n",
    "        # move pdf\n",
    "        shutil.move(current_book, destination_folder / f'{current_file_tuple.name}.pdf' )"
   ]
  },
  {
   "cell_type": "code",
   "execution_count": 10,
   "id": "27679f06",
   "metadata": {},
   "outputs": [],
   "source": [
    "for data_tuple in data_dictionaries:\n",
    "    process_book(data_tuple)"
   ]
  },
  {
   "cell_type": "code",
   "execution_count": null,
   "id": "47a44d15",
   "metadata": {},
   "outputs": [],
   "source": []
  }
 ],
 "metadata": {
  "kernelspec": {
   "display_name": "Python 3",
   "language": "python",
   "name": "python3"
  },
  "language_info": {
   "codemirror_mode": {
    "name": "ipython",
    "version": 3
   },
   "file_extension": ".py",
   "mimetype": "text/x-python",
   "name": "python",
   "nbconvert_exporter": "python",
   "pygments_lexer": "ipython3",
   "version": "3.7.9"
  }
 },
 "nbformat": 4,
 "nbformat_minor": 5
}
